{
 "cells": [
  {
   "cell_type": "code",
   "execution_count": null,
   "id": "4d47b484",
   "metadata": {
    "vscode": {
     "languageId": "plaintext"
    }
   },
   "outputs": [],
   "source": [
    "import pandas as pd\n",
    "import re"
   ]
  },
  {
   "cell_type": "code",
   "execution_count": null,
   "id": "aa930ecb-aae0-43bc-bf91-f996b94c14be",
   "metadata": {},
   "outputs": [],
   "source": [
    "goal = pd.read_csv(\"tests/fixtures/pt_life_expectancy_expected.csv\")"
   ]
  },
  {
   "cell_type": "code",
   "execution_count": null,
   "id": "4ca358f7-b4d1-4d43-9cbb-716b73da6801",
   "metadata": {},
   "outputs": [],
   "source": [
    "print(goal.shape)\n",
    "goal.head(10)"
   ]
  },
  {
   "cell_type": "code",
   "execution_count": null,
   "id": "3d847caf-a7d6-48a9-a00c-aef758fe6b7e",
   "metadata": {},
   "outputs": [],
   "source": [
    "goal.dtypes"
   ]
  },
  {
   "cell_type": "markdown",
   "id": "ad35e12e-f6c6-4a12-91e8-0fe3da0ecb98",
   "metadata": {},
   "source": [
    "### Let's create it"
   ]
  },
  {
   "cell_type": "code",
   "execution_count": null,
   "id": "5b6e6271",
   "metadata": {
    "vscode": {
     "languageId": "plaintext"
    }
   },
   "outputs": [],
   "source": [
    "df = pd.read_csv(\"data/eu_life_expectancy_raw.tsv\", sep=\"\\t\")"
   ]
  },
  {
   "cell_type": "code",
   "execution_count": null,
   "id": "3968439c-8808-4638-8a6d-cfaed7252e8f",
   "metadata": {},
   "outputs": [],
   "source": [
    "# removing spaces in variable names\n",
    "df.columns = df.columns.str.replace(' ', '')\n",
    "\n",
    "# creating new variables by separating \"unit,sex,age,geo\\time\"\n",
    "df[['unit', 'sex', 'age', 'region']] = df['unit,sex,age,geo\\\\time'].str.split(',', expand=True)\n",
    "\n",
    "# Drop the original 'unit,sex,age,geo\\\\time' column\n",
    "df = df.drop('unit,sex,age,geo\\\\time', axis=1)\n",
    "\n",
    "# filtering by portuguese\n",
    "df = df[df['region'] == 'PT']\n",
    "\n",
    "# Melt the dataframe and clean up values\n",
    "df_melted = pd.melt(\n",
    "    df,\n",
    "    id_vars=['unit', 'sex', 'age', 'region'],\n",
    "    var_name='year',\n",
    "    value_name='value'\n",
    ").query('value != \": \"')\n",
    "\n",
    "# Clean 'value' and convert columns\n",
    "df_melted['value'] = pd.to_numeric(df_melted['value'].str.replace(r'[^0-9.^0-9]', '', regex=True), errors='coerce')\n",
    "df_melted['year'] = df_melted['year'].astype(int)\n",
    "\n",
    "# Save the cleaned and melted DataFrame to a CSV file\n",
    "df_melted.to_csv('cleaned_data.csv', index=False)"
   ]
  },
  {
   "cell_type": "code",
   "execution_count": null,
   "id": "c0e183f6-762d-495e-9a90-9c1e4cdc0170",
   "metadata": {},
   "outputs": [],
   "source": [
    "print(df_melted.shape)\n",
    "df_melted.head(10)"
   ]
  },
  {
   "cell_type": "code",
   "execution_count": null,
   "id": "eba1281a-c484-4699-bd48-141d249fa0b4",
   "metadata": {},
   "outputs": [],
   "source": []
  },
  {
   "cell_type": "code",
   "execution_count": null,
   "id": "07c919bf-633f-40a9-a618-3a44341f142b",
   "metadata": {},
   "outputs": [],
   "source": [
    "import pandas as pd\n",
    "import re\n",
    "\n",
    "def clean_data():\n",
    "    \"\"\"\n",
    "    Cleans and processes the raw life expectancy data by:\n",
    "    - Splitting 'unit,sex,age,geo\\\\time' into separate columns\n",
    "    - Filtering for Portuguese data\n",
    "    - Melting the DataFrame to reshape it\n",
    "    - Cleaning up the 'value' column and converting it to numeric\n",
    "    - Saving the cleaned DataFrame as a CSV file\n",
    "    Returns:\n",
    "    pd.DataFrame: The cleaned DataFrame.\n",
    "    \"\"\"\n",
    "    df = pd.read_csv(\"data/eu_life_expectancy_raw.tsv\", sep=\"\\t\")\n",
    "\n",
    "    # removing spaces in variable names\n",
    "    df.columns = df.columns.str.replace(' ', '')\n",
    "\n",
    "    # creating new variables by separating \"unit,sex,age,geo\\time\"\n",
    "    df[['unit', 'sex', 'age', 'region']] = df['unit,sex,age,geo\\\\time'].str.split(',', expand=True)\n",
    "\n",
    "    # Drop the original 'unit,sex,age,geo\\\\time' column\n",
    "    df = df.drop('unit,sex,age,geo\\\\time', axis=1)\n",
    "\n",
    "    # filtering by portuguese\n",
    "    df = df[df['region'] == 'PT']\n",
    "\n",
    "    # Melt the dataframe and clean up values\n",
    "    df_melted = pd.melt(\n",
    "        df,\n",
    "        id_vars=['unit', 'sex', 'age', 'region'],\n",
    "        var_name='year',\n",
    "        value_name='value'\n",
    "    ).query('value != \": \"')\n",
    "\n",
    "    # Clean 'value' and convert columns\n",
    "    df_melted['value'] = pd.to_numeric(df_melted['value'].str.replace(r'[^0-9.^0-9]', '', regex=True), errors='coerce')\n",
    "    df_melted['year'] = df_melted['year'].astype(int)\n",
    "\n",
    "    # Save the cleaned and melted DataFrame to a CSV file\n",
    "    df_melted.to_csv('data/pt_life_expectancy.csv', index=False)\n",
    "\n",
    "    return df_melted"
   ]
  },
  {
   "cell_type": "code",
   "execution_count": 6,
   "id": "bc16ef56-33ca-45d8-bccf-d08c699dbf1b",
   "metadata": {},
   "outputs": [],
   "source": [
    "from life_expectancy.cleaning import clean_data\n"
   ]
  },
  {
   "cell_type": "code",
   "execution_count": 7,
   "id": "fa6f4c0c-68a5-4a98-8029-037f1bfc654f",
   "metadata": {},
   "outputs": [
    {
     "data": {
      "text/html": [
       "<div>\n",
       "<style scoped>\n",
       "    .dataframe tbody tr th:only-of-type {\n",
       "        vertical-align: middle;\n",
       "    }\n",
       "\n",
       "    .dataframe tbody tr th {\n",
       "        vertical-align: top;\n",
       "    }\n",
       "\n",
       "    .dataframe thead th {\n",
       "        text-align: right;\n",
       "    }\n",
       "</style>\n",
       "<table border=\"1\" class=\"dataframe\">\n",
       "  <thead>\n",
       "    <tr style=\"text-align: right;\">\n",
       "      <th></th>\n",
       "      <th>unit</th>\n",
       "      <th>sex</th>\n",
       "      <th>age</th>\n",
       "      <th>region</th>\n",
       "      <th>year</th>\n",
       "      <th>value</th>\n",
       "    </tr>\n",
       "  </thead>\n",
       "  <tbody>\n",
       "    <tr>\n",
       "      <th>61</th>\n",
       "      <td>YR</td>\n",
       "      <td>F</td>\n",
       "      <td>Y65</td>\n",
       "      <td>PT</td>\n",
       "      <td>2021</td>\n",
       "      <td>21.7</td>\n",
       "    </tr>\n",
       "    <tr>\n",
       "      <th>85</th>\n",
       "      <td>YR</td>\n",
       "      <td>F</td>\n",
       "      <td>Y_LT1</td>\n",
       "      <td>PT</td>\n",
       "      <td>2021</td>\n",
       "      <td>84.3</td>\n",
       "    </tr>\n",
       "    <tr>\n",
       "      <th>147</th>\n",
       "      <td>YR</td>\n",
       "      <td>M</td>\n",
       "      <td>Y65</td>\n",
       "      <td>PT</td>\n",
       "      <td>2021</td>\n",
       "      <td>17.8</td>\n",
       "    </tr>\n",
       "    <tr>\n",
       "      <th>171</th>\n",
       "      <td>YR</td>\n",
       "      <td>M</td>\n",
       "      <td>Y_LT1</td>\n",
       "      <td>PT</td>\n",
       "      <td>2021</td>\n",
       "      <td>78.0</td>\n",
       "    </tr>\n",
       "    <tr>\n",
       "      <th>233</th>\n",
       "      <td>YR</td>\n",
       "      <td>T</td>\n",
       "      <td>Y65</td>\n",
       "      <td>PT</td>\n",
       "      <td>2021</td>\n",
       "      <td>19.9</td>\n",
       "    </tr>\n",
       "    <tr>\n",
       "      <th>...</th>\n",
       "      <td>...</td>\n",
       "      <td>...</td>\n",
       "      <td>...</td>\n",
       "      <td>...</td>\n",
       "      <td>...</td>\n",
       "      <td>...</td>\n",
       "    </tr>\n",
       "    <tr>\n",
       "      <th>15991</th>\n",
       "      <td>YR</td>\n",
       "      <td>T</td>\n",
       "      <td>Y83</td>\n",
       "      <td>PT</td>\n",
       "      <td>1960</td>\n",
       "      <td>4.7</td>\n",
       "    </tr>\n",
       "    <tr>\n",
       "      <th>15992</th>\n",
       "      <td>YR</td>\n",
       "      <td>T</td>\n",
       "      <td>Y84</td>\n",
       "      <td>PT</td>\n",
       "      <td>1960</td>\n",
       "      <td>4.5</td>\n",
       "    </tr>\n",
       "    <tr>\n",
       "      <th>15993</th>\n",
       "      <td>YR</td>\n",
       "      <td>T</td>\n",
       "      <td>Y9</td>\n",
       "      <td>PT</td>\n",
       "      <td>1960</td>\n",
       "      <td>62.9</td>\n",
       "    </tr>\n",
       "    <tr>\n",
       "      <th>15994</th>\n",
       "      <td>YR</td>\n",
       "      <td>T</td>\n",
       "      <td>Y_GE85</td>\n",
       "      <td>PT</td>\n",
       "      <td>1960</td>\n",
       "      <td>4.2</td>\n",
       "    </tr>\n",
       "    <tr>\n",
       "      <th>15995</th>\n",
       "      <td>YR</td>\n",
       "      <td>T</td>\n",
       "      <td>Y_LT1</td>\n",
       "      <td>PT</td>\n",
       "      <td>1960</td>\n",
       "      <td>64.0</td>\n",
       "    </tr>\n",
       "  </tbody>\n",
       "</table>\n",
       "<p>15744 rows × 6 columns</p>\n",
       "</div>"
      ],
      "text/plain": [
       "      unit sex     age region  year  value\n",
       "61      YR   F     Y65     PT  2021   21.7\n",
       "85      YR   F   Y_LT1     PT  2021   84.3\n",
       "147     YR   M     Y65     PT  2021   17.8\n",
       "171     YR   M   Y_LT1     PT  2021   78.0\n",
       "233     YR   T     Y65     PT  2021   19.9\n",
       "...    ...  ..     ...    ...   ...    ...\n",
       "15991   YR   T     Y83     PT  1960    4.7\n",
       "15992   YR   T     Y84     PT  1960    4.5\n",
       "15993   YR   T      Y9     PT  1960   62.9\n",
       "15994   YR   T  Y_GE85     PT  1960    4.2\n",
       "15995   YR   T   Y_LT1     PT  1960   64.0\n",
       "\n",
       "[15744 rows x 6 columns]"
      ]
     },
     "execution_count": 7,
     "metadata": {},
     "output_type": "execute_result"
    }
   ],
   "source": [
    "clean_data()"
   ]
  },
  {
   "cell_type": "code",
   "execution_count": null,
   "id": "4203d290-6d9f-4938-adbe-cc68d619da76",
   "metadata": {},
   "outputs": [],
   "source": []
  }
 ],
 "metadata": {
  "kernelspec": {
   "display_name": "foundations",
   "language": "python",
   "name": "foundations"
  },
  "language_info": {
   "codemirror_mode": {
    "name": "ipython",
    "version": 3
   },
   "file_extension": ".py",
   "mimetype": "text/x-python",
   "name": "python",
   "nbconvert_exporter": "python",
   "pygments_lexer": "ipython3",
   "version": "3.9.10"
  }
 },
 "nbformat": 4,
 "nbformat_minor": 5
}
